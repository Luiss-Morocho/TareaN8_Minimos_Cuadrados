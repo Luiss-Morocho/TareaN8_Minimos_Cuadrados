{
 "cells": [
  {
   "cell_type": "raw",
   "id": "66ba658c-d849-41e9-b3f7-bab4e32593d0",
   "metadata": {},
   "source": [
    "---\n",
    "title: \"ESCUELA POLITECNICA NACIONAL\"\n",
    "subtitle: \"Metodos Numericos - Tarea N8\"        \n",
    "author: \"Luis Angel Morocho S\"\n",
    "lang: es\n",
    "format: \n",
    "  pdf:\n",
    "    toc: false\n",
    "    toc-title: \"Tabla de Contenidos\"  \n",
    "execute:\n",
    "  echo: true\n",
    "  error: false\n",
    "  warning: false\n",
    "jupyter: python3\n",
    "link-citations: false\n",
    "---\n"
   ]
  },
  {
   "cell_type": "markdown",
   "id": "0a2f6b01-bf26-44b9-bc97-761e3c7d3134",
   "metadata": {},
   "source": [
    "# Tema: Mínimos cuadrados"
   ]
  },
  {
   "cell_type": "markdown",
   "id": "56ece321-361b-475a-baf6-91b9cb37bafb",
   "metadata": {
    "tags": []
   },
   "source": [
    "---"
   ]
  },
  {
   "cell_type": "markdown",
   "id": "e73226cc-432f-4f5d-a978-99642e029d08",
   "metadata": {},
   "source": [
    "## Conjunto de ejercicios\n"
   ]
  },
  {
   "cell_type": "markdown",
   "id": "0b6f4dc9-1775-4ce5-9d13-b2de8d4ddd0e",
   "metadata": {},
   "source": [
    "1. Dados los datos:"
   ]
  },
  {
   "cell_type": "markdown",
   "id": "12f74508-f936-466c-98e1-188f25c71a72",
   "metadata": {},
   "source": [
    "| $x_i$ | 4.0  | 4.2   | 4.5   | 4.7   | 5.1   | 5.5   | 5.9   | 6.3   | 6.8   | 7.1   |\n",
    "|-----------|------|-------|-------|-------|-------|-------|-------|-------|-------|-------|\n",
    "| $y_i$ | 102.56 | 130.11 | 113.18 | 142.05 | 167.53 | 195.14 | 224.87 | 256.73 | 299.50 | 326.72 |\n"
   ]
  },
  {
   "cell_type": "markdown",
   "id": "840083b3-35f0-4b91-97b6-1bf0ac21dc76",
   "metadata": {},
   "source": [
    "- a. Construya el polinomio por mínimo cuadrados de grado 1 y calcule el error.  \n",
    "- b. Construya el polinomio por mínimo cuadrados de grado 2 y calcule el error.  \n",
    "- c. Construya el polinomio por mínimo cuadrados de grado 3 y calcule el error.  \n",
    "- d. Construya el polinomio por mínimo cuadrados de la forma $be^{ax}$ y calcule el error.  \n",
    "- e. Construya el polinomio por mínimo cuadrados de la forma $bx^{a}$ y calcule el error."
   ]
  },
  {
   "cell_type": "code",
   "execution_count": null,
   "id": "b75bb9d1-1b0a-4d28-b3b0-6acb6a5d366c",
   "metadata": {},
   "outputs": [],
   "source": []
  },
  {
   "cell_type": "markdown",
   "id": "5f4de2f6-b46e-467a-b8a0-3d34ba101c24",
   "metadata": {},
   "source": [
    "Primero realizamos la funcion para minimos cuadrados y para hallar los coeficientes:"
   ]
  },
  {
   "cell_type": "code",
   "execution_count": 64,
   "id": "7cedff43-bda4-4123-a935-def692451dcb",
   "metadata": {
    "tags": []
   },
   "outputs": [],
   "source": [
    "import numpy as np\n",
    "        \n",
    "def minimosCuadrados(n, grado, xi, yi):\n",
    "    A = np.zeros((grado+1,grado+1))\n",
    "    b = np.zeros((grado+1,1))\n",
    "    for i in range (0,grado+1):\n",
    "        for j in range(0,grado+1):\n",
    "            k=0\n",
    "            while (k<n):\n",
    "                A[i,j] += xi[k]**((i)+(j))\n",
    "                k += 1\n",
    "        for l in range(n):\n",
    "            b[i] += (xi[l]**(i))*yi[l]\n",
    "            \n",
    "    print_matrix(A, \"Matriz A\")\n",
    "    print_matrix(b, \"Vector b\")\n",
    "    return A,b\n",
    "\n",
    "def hallarCoef(a,b):\n",
    "    A=np.linalg.inv(a)\n",
    "    x = np.dot(A,b)\n",
    "    print_matrix(x, \"Coeficientes del polinomio\")\n",
    "    return x\n"
   ]
  },
  {
   "cell_type": "markdown",
   "id": "e3edc718-a163-480d-aeb0-cb299b07c604",
   "metadata": {},
   "source": [
    "Con las siguientes funciones podremos dibujar los puntos requerridos"
   ]
  },
  {
   "cell_type": "code",
   "execution_count": 67,
   "id": "0b69bfab-598e-40d5-891a-00bfd3b821ab",
   "metadata": {
    "tags": []
   },
   "outputs": [],
   "source": [
    "import matplotlib.pyplot as plt\n",
    "import sympy as sym\n",
    "\n",
    "def graficar(xi,yi,c,colorcurva,rango_x,rango_y,x_pol,y_pol,lim_inf):\n",
    "    x = sym.Symbol('x')\n",
    "    f_x = sum(round(coef[0],4) *x**i for i, coef in enumerate(c))\n",
    "    # Generar valores de x\n",
    "    x_val = np.linspace(min(xi)-lim_inf, max(xi)+lim_inf, 100)\n",
    "    f = sym.lambdify(x, f_x, modules=['numpy'])\n",
    "    # Calcular los  valores de y \n",
    "    y = f(x_val)\n",
    "    \n",
    "    xi = np.array(xi)\n",
    "    yi = np.array(yi)\n",
    "    # Calcular los residuos (errores)\n",
    "    residuos = yi - f(xi)\n",
    "    imprimirErrores(residuos,xi)\n",
    "    # Calcular el error cuadrático medio (MSE)\n",
    "    mse = np.mean(residuos**2)\n",
    "    print(\"El error cuadrático medio para este ajuste es de:\", round(mse,6))\n",
    "    imprimirPolinomio(f_x)\n",
    "    # Graficar\n",
    "    plt.figure(figsize=(10, 8))\n",
    "    # Graficar los puntos originales con barras de error\n",
    "    plt.errorbar(xi, yi, yerr=abs(residuos), fmt=' ', color='red', label='Datos originales con error')\n",
    "    # Graficar la ecuación\n",
    "    plt.plot(x_val, y,color = colorcurva, label = 'Polinomio aproximado')\n",
    "    #Graficar los datos originales\n",
    "    plt.scatter(xi, yi, color='black', label='Datos originales', s = 20)\n",
    "    #Graficar los nombres de los ejes\n",
    "    plt.xlabel('x')\n",
    "    plt.ylabel('y')\n",
    "    #Limites para x e y\n",
    "    ax = plt.gca()\n",
    "    ax.set_ylim(rango_y)\n",
    "    ax.set_xlim(rango_x)\n",
    "    #Agregar cuadrícula\n",
    "    plt.grid(True)\n",
    "    #Agregar la leyenda\n",
    "    plt.legend()\n",
    "    #Agregar la ecuación de la curva a la gráfica\n",
    "    plt.text(x_pol, y_pol, f'$P(x) = {sym.latex(f_x)}$', fontsize=12, color=colorcurva, verticalalignment='bottom')\n",
    "    # Marca los ejes coordenados\n",
    "    plt.axhline(0, color='black',linewidth=0.5)\n",
    "    plt.axvline(0, color='black',linewidth=0.5)\n",
    "    plt.show()\n",
    "\n",
    "def graficarNoLineales(xi,yi,f_x,colorcurva,rango_x,rango_y,x_pol,y_pol,lim_inf):   \n",
    "    x = sym.Symbol('x')\n",
    "    # Generar valores de x\n",
    "    x_val = np.linspace(min(xi)-lim_inf, max(xi)+1, 100)\n",
    "    f = sym.lambdify(x, f_x, modules=['numpy'])\n",
    "    # Calcular los  valores de y \n",
    "    y = f(x_val)\n",
    "    \n",
    "    xi = np.array(xi)\n",
    "    yi = np.array(yi)\n",
    "    # Calcular los residuos (errores)\n",
    "    residuos = yi - f(xi)\n",
    "    imprimirErrores(residuos,xi)\n",
    "    # Calcular el error cuadrático medio (MSE)\n",
    "    mse = np.mean(residuos**2)\n",
    "    print(\"El error cuadrático medio para este ajuste es de:\", round(mse,2))\n",
    "    imprimirPolinomio(f_x)\n",
    "    # Graficar\n",
    "    plt.figure(figsize=(10, 8))\n",
    "    # Graficar los puntos originales con barras de error\n",
    "    plt.errorbar(xi, yi, yerr=abs(residuos), fmt=' ', color='red', label='Datos originales con error')\n",
    "    # Graficar la ecuación\n",
    "    plt.plot(x_val, y,color = colorcurva, label = 'Polinomio aproximado')\n",
    "    #Graficar los datos originales\n",
    "    plt.scatter(xi, yi, color='black', label='Datos originales', s = 20)\n",
    "    #Graficar los nombres de los ejes\n",
    "    plt.xlabel('x')\n",
    "    plt.ylabel('y')\n",
    "    #Limites para x e y\n",
    "    ax = plt.gca()\n",
    "    ax.set_ylim(rango_y)\n",
    "    ax.set_xlim(rango_x)\n",
    "    #Agregar cuadrícula\n",
    "    plt.grid(True)\n",
    "    #Agregar la leyenda\n",
    "    plt.legend()\n",
    "    #Agregar la ecuación de la curva a la gráfica\n",
    "    plt.text(x_pol, y_pol, f'$P(x) = {sym.latex(f_x)}$', fontsize=12, color=colorcurva, verticalalignment='bottom')\n",
    "    # Marca los ejes coordenados\n",
    "    plt.axhline(0, color='black',linewidth=0.5)\n",
    "    plt.axvline(0, color='black',linewidth=0.5)\n",
    "    plt.show()\n"
   ]
  },
  {
   "cell_type": "code",
   "execution_count": 72,
   "id": "2b6a7f88-8a88-44a9-886c-f214d9885de2",
   "metadata": {
    "tags": []
   },
   "outputs": [],
   "source": [
    "from IPython.display import display, Math\n",
    "\n",
    "def expOriginal(c,exp):\n",
    "    print(\"Con los coeficientes asociados al polinomio linealizado hallamos los coeficientes de nuestra\\n expresión:\\n\")  \n",
    "    #Hallar los coeficientes adecuados\n",
    "    b_exp = np.e**(c[0,0])\n",
    "    a_exp = c[1,0]\n",
    "    print(\"a =\",a_exp,\" y b =\", b_exp,\"\\n\")\n",
    "        \n",
    "    x = sym.Symbol('x')\n",
    "    if exp:\n",
    "        #Generar la ecuación en la forma be^{ax}\n",
    "        f_x = round(b_exp,4)*sym.exp(round(a_exp,4)*x)\n",
    "    else:\n",
    "        #Generar la ecuación en la forma bx^{a}\n",
    "        f_x = round(b_exp,4)*x**(round(a_exp,4))\n",
    "    return f_x\n"
   ]
  },
  {
   "cell_type": "markdown",
   "id": "c9685d1c-bfef-407a-9021-32e29e35436d",
   "metadata": {},
   "source": [
    "Impresion:"
   ]
  },
  {
   "cell_type": "code",
   "execution_count": 70,
   "id": "e65b5835-212b-4d55-aff5-2a3702e18e2e",
   "metadata": {
    "tags": []
   },
   "outputs": [],
   "source": [
    "def print_matrix(matrix, name):\n",
    "    print(name + \":\")\n",
    "    for row in matrix:\n",
    "        print(\" [ \", \"   \".join(f\"{elem:12.4f}\" for elem in row), \"]\")\n",
    "        \n",
    "def imprimirErrores(residuos,xi):\n",
    "    i=1\n",
    "    print(\" \")\n",
    "    for res in residuos:\n",
    "        print(\"El error absoluto de f(x_\"+str(i)+\") al punto x_\"+str(i)+\" es de\",round(abs(res),6))\n",
    "        i += 1\n",
    "   \n",
    "def imprimirPolinomio(f_x):    \n",
    "    # Generar la representación LaTeX de la expresión\n",
    "    latex_expr = sym.latex(f_x)\n",
    "    print(\"Por tanto, el polinomio aproximado en la forma solicitada es:\\n\")\n",
    "    # Mostrar la expresión LaTeX\n",
    "    display(Math(latex_expr))"
   ]
  },
  {
   "cell_type": "code",
   "execution_count": null,
   "id": "81114d25-4f11-42be-be77-7a3d5275334d",
   "metadata": {},
   "outputs": [],
   "source": []
  },
  {
   "cell_type": "markdown",
   "id": "74cdd265-273f-4434-8987-49ddf5963115",
   "metadata": {},
   "source": [
    "Ahora, vamos a considerar que el polinomio de grado m que se desea ajustar a n puntos tiene la forma: $P(x) = c_{0}+c_{1}x+c_{2}x^{2}+\\cdots+c_{m}x^{m}$.   \n",
    "\n",
    "Aplicamos mínimos cuadrados y derivamos $P(x)$ para cada coeficiente $c_{i}$ con $i \\in [0,m]$, obtenemos el sistema de ecuaciones: $Ac=b$.\n",
    "Y para los coeficientes calculamos $c=A^{-1}b$"
   ]
  },
  {
   "cell_type": "code",
   "execution_count": 80,
   "id": "d2404b81-4b70-490a-a846-3b36669bc0fc",
   "metadata": {
    "tags": []
   },
   "outputs": [],
   "source": [
    "import numpy as np\n",
    "import sympy as sym\n",
    "\n",
    "xi_1 = [4.0, 4.2, 4.5, 4.7, 5.1, 5.5, 5.9, 6.3, 6.8, 7.1]\n",
    "yi_1 =[102.56, 130.11, 113.18, 142.05, 167.53, 195.14, 224.87, 256.73, 299.50, 326.72]\n",
    "xi_lin_1 = np.log(xi_1)\n",
    "yi_lin_1 = np.log(yi_1)"
   ]
  },
  {
   "cell_type": "markdown",
   "id": "b25fef3f-a080-4fbe-9510-717af333180a",
   "metadata": {},
   "source": [
    "**a)**"
   ]
  },
  {
   "cell_type": "code",
   "execution_count": 84,
   "id": "392bde11-d1f0-44c8-a2f0-0fe8c1ac8577",
   "metadata": {
    "tags": []
   },
   "outputs": [
    {
     "name": "stdout",
     "output_type": "stream",
     "text": [
      "Matriz A:\n",
      " [       10.0000        54.1000 ]\n",
      " [       54.1000       303.3900 ]\n",
      "Vector b:\n",
      " [     1958.3900 ]\n",
      " [    11361.7640 ]\n",
      "Coeficientes del polinomio:\n",
      " [     -191.5724 ]\n",
      " [       71.6102 ]\n",
      " \n",
      "El error absoluto de f(x_1) al punto x_1 es de 7.6916\n",
      "El error absoluto de f(x_2) al punto x_2 es de 20.91956\n",
      "El error absoluto de f(x_3) al punto x_3 es de 17.4935\n",
      "El error absoluto de f(x_4) al punto x_4 es de 2.94554\n",
      "El error absoluto de f(x_5) al punto x_5 es de 6.10962\n",
      "El error absoluto de f(x_6) al punto x_6 es de 7.1437\n",
      "El error absoluto de f(x_7) al punto x_7 es de 6.05778\n",
      "El error absoluto de f(x_8) al punto x_8 es de 2.84186\n",
      "El error absoluto de f(x_9) al punto x_9 es de 4.12304\n",
      "El error absoluto de f(x_10) al punto x_10 es de 9.85998\n",
      "El error cuadrático medio para este ajuste es de: 105.883889\n",
      "Por tanto, el polinomio aproximado en la forma solicitada es:\n",
      "\n"
     ]
    },
    {
     "data": {
      "text/latex": [
       "$\\displaystyle 71.6102 x - 191.5724$"
      ],
      "text/plain": [
       "<IPython.core.display.Math object>"
      ]
     },
     "metadata": {},
     "output_type": "display_data"
    },
    {
     "data": {
      "image/png": "[encoded data removed]",
      "text/plain": [
       "<Figure size 1000x800 with 1 Axes>"
      ]
     },
     "metadata": {},
     "output_type": "display_data"
    }
   ],
   "source": [
    "%autoreload 2\n",
    "\n",
    "a,b = minimosCuadrados(len(xi_1),1,xi_1,yi_1)\n",
    "c = hallarCoef(a,b)\n",
    "graficar(xi_1,yi_1,c,'green',[0, 8],[0, 350],3.7,65,10)"
   ]
  },
  {
   "cell_type": "markdown",
   "id": "245655ad-7ce5-446c-ab0a-5c0b3a76ce57",
   "metadata": {},
   "source": [
    "**b)**"
   ]
  },
  {
   "cell_type": "code",
   "execution_count": null,
   "id": "b3ddcfc5-61c5-49be-a521-cf604cee9527",
   "metadata": {},
   "outputs": [],
   "source": []
  },
  {
   "cell_type": "markdown",
   "id": "1dd4170a-3e68-47b4-aa7c-02852abf4f3b",
   "metadata": {},
   "source": [
    "| $x_i$ | 0.2  | 0.3   | 0.6   | 0.9   | 1.1   | 1.3   | 1.4   | 1.6   |\n",
    "|-----------|------|-------|-------|-------|-------|-------|-------|-------|\n",
    "| $y_i$ | 0.050446 | 0.098426 | 0.33277 | 0.72660 | 1.0972 | 1.5697 | 1.8487 | 2.5015 |\n"
   ]
  },
  {
   "cell_type": "code",
   "execution_count": null,
   "id": "a8bdb4a1-1852-41ce-83cb-059521a0b6ca",
   "metadata": {},
   "outputs": [],
   "source": []
  },
  {
   "cell_type": "code",
   "execution_count": null,
   "id": "991f7487-3f0c-4f0b-a332-e670e9f8e7af",
   "metadata": {},
   "outputs": [],
   "source": []
  },
  {
   "cell_type": "code",
   "execution_count": null,
   "id": "af85c7ef-92b4-4380-be1c-caa82d9b8fec",
   "metadata": {},
   "outputs": [],
   "source": []
  },
  {
   "cell_type": "markdown",
   "id": "53483e77-d4db-4ef1-9071-5488e4ac7bd6",
   "metadata": {
    "tags": []
   },
   "source": [
    "| Puntuación ACT | Promedio de puntos | Puntuación ACT | Promedio de puntos |\n",
    "|----------------|--------------------|----------------|--------------------|\n",
    "| 28             | 3.84               | 29             | 3.75               |\n",
    "| 25             | 3.21               | 28             | 3.65               |\n",
    "| 28             | 3.23               | 27             | 3.87               |\n",
    "| 27             | 3.63               | 29             | 3.75               |\n",
    "| 28             | 3.75               | 21             | 1.66               |\n",
    "| 33             | 3.20               | 28             | 3.12               |\n",
    "| 28             | 3.41               | 28             | 2.96               |\n",
    "| 29             | 3.38               | 26             | 2.92               |\n",
    "| 23             | 3.53               | 30             | 3.10               |\n",
    "| 27             | 2.03               | 24             | 2.81               |\n"
   ]
  },
  {
   "cell_type": "code",
   "execution_count": null,
   "id": "d10d3c60-9562-44b7-bae1-748f4ca4d91a",
   "metadata": {},
   "outputs": [],
   "source": []
  },
  {
   "cell_type": "code",
   "execution_count": null,
   "id": "120d6ef6-dbe2-41f8-a02a-7047c0c9947b",
   "metadata": {},
   "outputs": [],
   "source": []
  },
  {
   "cell_type": "markdown",
   "id": "c8ecf2e8-3fd2-4368-9244-72a48b92e9ab",
   "metadata": {},
   "source": [
    "| Tipo                            | Peso promedio | Porcentaje de presentación |\n",
    "|---------------------------------|---------------|----------------------------|\n",
    "| 1. Regular lujoso doméstico     | 4800 lb       | 3.1                        |\n",
    "| 2. Regular intermediario doméstico | 3700 lb    | 4.0                        |\n",
    "| 3. Regular económico doméstico  | 3400 lb       | 5.2                        |\n",
    "| 4. Compacto doméstico           | 2800 lb       | 6.4                        |\n",
    "| 5. Compacto extranjero          | 1900 lb       | 9.6                        |\n"
   ]
  },
  {
   "cell_type": "code",
   "execution_count": null,
   "id": "f538967d-3f22-4558-b1a2-ef5340da8eb2",
   "metadata": {},
   "outputs": [],
   "source": []
  }
 ],
 "metadata": {
  "kernelspec": {
   "display_name": "Python 3 (ipykernel)",
   "language": "python",
   "name": "python3"
  },
  "language_info": {
   "codemirror_mode": {
    "name": "ipython",
    "version": 3
   },
   "file_extension": ".py",
   "mimetype": "text/x-python",
   "name": "python",
   "nbconvert_exporter": "python",
   "pygments_lexer": "ipython3",
   "version": "3.11.7"
  }
 },
 "nbformat": 4,
 "nbformat_minor": 5
}
